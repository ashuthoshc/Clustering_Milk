{
 "cells": [
  {
   "cell_type": "markdown",
   "metadata": {},
   "source": [
    "# Clustering of Milk types using Nutrients value"
   ]
  },
  {
   "cell_type": "markdown",
   "metadata": {},
   "source": [
    "## Introduction\n",
    "When we go to supermarkets we see variety of milk cans and milk products. Have you ever wondered what is the difference between whole milk and the 2% reduced fat milk? Why are there so many varieties of milk and what is the difference between these varieties of milk. To understand the same and I have applied KMeans clustering to group all similar milk type based on the nutrient values.\n",
    "\n",
    "The goal of this project is to Understand different types of clustering methods and implementing the same to cluster the different group of milks."
   ]
  },
  {
   "cell_type": "markdown",
   "metadata": {},
   "source": [
    "## Motivation \n",
    "\n",
    "Learning clustering in class was exciting, wanted to use the same knowledge in real world problems. Like said every step is learning I wanted to explore some dataset which is directly linked with our health and to learn how we are living a nutritiously life.  "
   ]
  },
  {
   "cell_type": "markdown",
   "metadata": {},
   "source": [
    "## Related work\n",
    "\n",
    "### Testing and Analysis\n",
    "The milk nutrients can used to understand what type of milk category you are looking for. The each milk category have a wide range of nutrients value. The values of each category has a scale of its own.\n",
    "\n",
    "### Assumption\n",
    "Based on the nutrient values present in a large data set and closely analyzing the data. We understand that the nutrient values in each milk Groups are close to each other. We can assume that the nutrient values of are mostly similar to each milkGroup and thus we understand the nutrition distribution of each milk category "
   ]
  },
  {
   "cell_type": "markdown",
   "metadata": {},
   "source": [
    "## Data Import\n",
    "\n",
    "Data Source: [USDA Agricultural Research Service](USa.philips.com/c-m-pe/face-stylers-and-grooming-kits/multigroomers/latest#filters=MULTIGROOMERS_SU)"
   ]
  },
  {
   "cell_type": "markdown",
   "metadata": {},
   "source": [
    "## Importing Libraries"
   ]
  },
  {
   "cell_type": "code",
   "execution_count": 1,
   "metadata": {},
   "outputs": [],
   "source": [
    "import pandas as pd\n",
    "import numpy as np\n",
    "import os\n",
    "\n",
    "import matplotlib.pyplot as plt\n",
    "%matplotlib inline\n",
    "\n",
    "import sklearn"
   ]
  },
  {
   "cell_type": "code",
   "execution_count": 2,
   "metadata": {},
   "outputs": [
    {
     "name": "stdout",
     "output_type": "stream",
     "text": [
      "Collecting package metadata (current_repodata.json): ...working... done\n",
      "Solving environment: ...working... done\n",
      "\n",
      "# All requested packages already installed.\n",
      "\n",
      "\n",
      "Note: you may need to restart the kernel to use updated packages.\n"
     ]
    }
   ],
   "source": [
    "conda install -c districtdatalabs yellowbrick"
   ]
  },
  {
   "cell_type": "code",
   "execution_count": 3,
   "metadata": {},
   "outputs": [
    {
     "data": {
      "text/plain": [
       "['C:\\\\Users\\\\14439\\\\Downloads\\\\SR23\\\\sr24.xlsx',\n",
       " 'C:\\\\Users\\\\14439\\\\Downloads\\\\SR23\\\\sr25.xlsx',\n",
       " 'C:\\\\Users\\\\14439\\\\Downloads\\\\SR23\\\\sr26.xlsx',\n",
       " 'C:\\\\Users\\\\14439\\\\Downloads\\\\SR23\\\\sr27.xlsx',\n",
       " 'C:\\\\Users\\\\14439\\\\Downloads\\\\SR23\\\\sr28.xlsx']"
      ]
     },
     "execution_count": 3,
     "metadata": {},
     "output_type": "execute_result"
    }
   ],
   "source": [
    "# Upload all the datasets\n",
    "import glob\n",
    "glob.glob(\"C:\\\\Users\\\\14439\\\\Downloads\\\\SR23\\\\sr*.xlsx\")"
   ]
  },
  {
   "cell_type": "code",
   "execution_count": 4,
   "metadata": {},
   "outputs": [],
   "source": [
    "# Uploading different datasets into a single dataframe\n",
    "import pandas as pd\n",
    "all_data = pd.DataFrame()\n",
    "for f in glob.glob(\"C:\\\\Users\\\\14439\\\\Downloads\\\\SR23\\\\sr*.xlsx\"):\n",
    "    df = pd.read_excel(f)\n",
    "    all_data = all_data.append(df,ignore_index=True)"
   ]
  },
  {
   "cell_type": "code",
   "execution_count": 5,
   "metadata": {},
   "outputs": [
    {
     "data": {
      "text/html": [
       "<div>\n",
       "<style scoped>\n",
       "    .dataframe tbody tr th:only-of-type {\n",
       "        vertical-align: middle;\n",
       "    }\n",
       "\n",
       "    .dataframe tbody tr th {\n",
       "        vertical-align: top;\n",
       "    }\n",
       "\n",
       "    .dataframe thead th {\n",
       "        text-align: right;\n",
       "    }\n",
       "</style>\n",
       "<table border=\"1\" class=\"dataframe\">\n",
       "  <thead>\n",
       "    <tr style=\"text-align: right;\">\n",
       "      <th></th>\n",
       "      <th>NDB_No</th>\n",
       "      <th>Shrt_Desc</th>\n",
       "      <th>Water_(g)</th>\n",
       "      <th>Energ_Kcal</th>\n",
       "      <th>Protein_(g)</th>\n",
       "      <th>Lipid_Tot_(g)</th>\n",
       "      <th>Ash_(g)</th>\n",
       "      <th>Carbohydrt_(g)</th>\n",
       "      <th>Fiber_TD_(g)</th>\n",
       "      <th>Sugar_Tot_(g)</th>\n",
       "      <th>...</th>\n",
       "      <th>Refuse_Pct</th>\n",
       "      <th>Copper_(mg)</th>\n",
       "      <th>Vit_D_(µg)</th>\n",
       "      <th>Vit_D_(IU)</th>\n",
       "      <th>Vit_K_(µg)</th>\n",
       "      <th>Panto_Acid_(mg)</th>\n",
       "      <th>Choline_Tot_(mg)</th>\n",
       "      <th>Vit_A_RAE_(µg)_</th>\n",
       "      <th>Lut+Zea_(µg)</th>\n",
       "      <th>Vit_D_IU</th>\n",
       "    </tr>\n",
       "  </thead>\n",
       "  <tbody>\n",
       "    <tr>\n",
       "      <th>0</th>\n",
       "      <td>1001</td>\n",
       "      <td>BUTTER,WITH SALT</td>\n",
       "      <td>15.87</td>\n",
       "      <td>717.0</td>\n",
       "      <td>0.85</td>\n",
       "      <td>81.11</td>\n",
       "      <td>2.11</td>\n",
       "      <td>0.06</td>\n",
       "      <td>0.0</td>\n",
       "      <td>0.06</td>\n",
       "      <td>...</td>\n",
       "      <td>0.0</td>\n",
       "      <td>NaN</td>\n",
       "      <td>NaN</td>\n",
       "      <td>NaN</td>\n",
       "      <td>NaN</td>\n",
       "      <td>NaN</td>\n",
       "      <td>NaN</td>\n",
       "      <td>NaN</td>\n",
       "      <td>NaN</td>\n",
       "      <td>NaN</td>\n",
       "    </tr>\n",
       "    <tr>\n",
       "      <th>1</th>\n",
       "      <td>1002</td>\n",
       "      <td>BUTTER,WHIPPED,WITH SALT</td>\n",
       "      <td>15.87</td>\n",
       "      <td>717.0</td>\n",
       "      <td>0.85</td>\n",
       "      <td>81.11</td>\n",
       "      <td>2.11</td>\n",
       "      <td>0.06</td>\n",
       "      <td>0.0</td>\n",
       "      <td>0.06</td>\n",
       "      <td>...</td>\n",
       "      <td>0.0</td>\n",
       "      <td>NaN</td>\n",
       "      <td>NaN</td>\n",
       "      <td>NaN</td>\n",
       "      <td>NaN</td>\n",
       "      <td>NaN</td>\n",
       "      <td>NaN</td>\n",
       "      <td>NaN</td>\n",
       "      <td>NaN</td>\n",
       "      <td>NaN</td>\n",
       "    </tr>\n",
       "    <tr>\n",
       "      <th>2</th>\n",
       "      <td>1003</td>\n",
       "      <td>BUTTER OIL,ANHYDROUS</td>\n",
       "      <td>0.24</td>\n",
       "      <td>876.0</td>\n",
       "      <td>0.28</td>\n",
       "      <td>99.48</td>\n",
       "      <td>0.00</td>\n",
       "      <td>0.00</td>\n",
       "      <td>0.0</td>\n",
       "      <td>0.00</td>\n",
       "      <td>...</td>\n",
       "      <td>0.0</td>\n",
       "      <td>NaN</td>\n",
       "      <td>NaN</td>\n",
       "      <td>NaN</td>\n",
       "      <td>NaN</td>\n",
       "      <td>NaN</td>\n",
       "      <td>NaN</td>\n",
       "      <td>NaN</td>\n",
       "      <td>NaN</td>\n",
       "      <td>NaN</td>\n",
       "    </tr>\n",
       "    <tr>\n",
       "      <th>3</th>\n",
       "      <td>1004</td>\n",
       "      <td>CHEESE,BLUE</td>\n",
       "      <td>42.41</td>\n",
       "      <td>353.0</td>\n",
       "      <td>21.40</td>\n",
       "      <td>28.74</td>\n",
       "      <td>5.11</td>\n",
       "      <td>2.34</td>\n",
       "      <td>0.0</td>\n",
       "      <td>0.50</td>\n",
       "      <td>...</td>\n",
       "      <td>0.0</td>\n",
       "      <td>NaN</td>\n",
       "      <td>NaN</td>\n",
       "      <td>NaN</td>\n",
       "      <td>NaN</td>\n",
       "      <td>NaN</td>\n",
       "      <td>NaN</td>\n",
       "      <td>NaN</td>\n",
       "      <td>NaN</td>\n",
       "      <td>NaN</td>\n",
       "    </tr>\n",
       "    <tr>\n",
       "      <th>4</th>\n",
       "      <td>1005</td>\n",
       "      <td>CHEESE,BRICK</td>\n",
       "      <td>41.11</td>\n",
       "      <td>371.0</td>\n",
       "      <td>23.24</td>\n",
       "      <td>29.68</td>\n",
       "      <td>3.18</td>\n",
       "      <td>2.79</td>\n",
       "      <td>0.0</td>\n",
       "      <td>0.51</td>\n",
       "      <td>...</td>\n",
       "      <td>0.0</td>\n",
       "      <td>NaN</td>\n",
       "      <td>NaN</td>\n",
       "      <td>NaN</td>\n",
       "      <td>NaN</td>\n",
       "      <td>NaN</td>\n",
       "      <td>NaN</td>\n",
       "      <td>NaN</td>\n",
       "      <td>NaN</td>\n",
       "      <td>NaN</td>\n",
       "    </tr>\n",
       "    <tr>\n",
       "      <th>...</th>\n",
       "      <td>...</td>\n",
       "      <td>...</td>\n",
       "      <td>...</td>\n",
       "      <td>...</td>\n",
       "      <td>...</td>\n",
       "      <td>...</td>\n",
       "      <td>...</td>\n",
       "      <td>...</td>\n",
       "      <td>...</td>\n",
       "      <td>...</td>\n",
       "      <td>...</td>\n",
       "      <td>...</td>\n",
       "      <td>...</td>\n",
       "      <td>...</td>\n",
       "      <td>...</td>\n",
       "      <td>...</td>\n",
       "      <td>...</td>\n",
       "      <td>...</td>\n",
       "      <td>...</td>\n",
       "      <td>...</td>\n",
       "      <td>...</td>\n",
       "    </tr>\n",
       "    <tr>\n",
       "      <th>41967</th>\n",
       "      <td>83110</td>\n",
       "      <td>MACKEREL,SALTED</td>\n",
       "      <td>43.00</td>\n",
       "      <td>305.0</td>\n",
       "      <td>18.50</td>\n",
       "      <td>25.10</td>\n",
       "      <td>13.40</td>\n",
       "      <td>0.00</td>\n",
       "      <td>0.0</td>\n",
       "      <td>0.00</td>\n",
       "      <td>...</td>\n",
       "      <td>0.0</td>\n",
       "      <td>NaN</td>\n",
       "      <td>NaN</td>\n",
       "      <td>NaN</td>\n",
       "      <td>7.8</td>\n",
       "      <td>NaN</td>\n",
       "      <td>NaN</td>\n",
       "      <td>NaN</td>\n",
       "      <td>NaN</td>\n",
       "      <td>1006.0</td>\n",
       "    </tr>\n",
       "    <tr>\n",
       "      <th>41968</th>\n",
       "      <td>90240</td>\n",
       "      <td>SCALLOP,(BAY&amp;SEA),CKD,STMD</td>\n",
       "      <td>70.25</td>\n",
       "      <td>111.0</td>\n",
       "      <td>20.54</td>\n",
       "      <td>0.84</td>\n",
       "      <td>2.97</td>\n",
       "      <td>5.41</td>\n",
       "      <td>0.0</td>\n",
       "      <td>0.00</td>\n",
       "      <td>...</td>\n",
       "      <td>0.0</td>\n",
       "      <td>NaN</td>\n",
       "      <td>NaN</td>\n",
       "      <td>NaN</td>\n",
       "      <td>0.0</td>\n",
       "      <td>NaN</td>\n",
       "      <td>NaN</td>\n",
       "      <td>NaN</td>\n",
       "      <td>NaN</td>\n",
       "      <td>2.0</td>\n",
       "    </tr>\n",
       "    <tr>\n",
       "      <th>41969</th>\n",
       "      <td>90480</td>\n",
       "      <td>SYRUP,CANE</td>\n",
       "      <td>26.00</td>\n",
       "      <td>269.0</td>\n",
       "      <td>0.00</td>\n",
       "      <td>0.00</td>\n",
       "      <td>0.86</td>\n",
       "      <td>73.14</td>\n",
       "      <td>0.0</td>\n",
       "      <td>73.20</td>\n",
       "      <td>...</td>\n",
       "      <td>0.0</td>\n",
       "      <td>NaN</td>\n",
       "      <td>NaN</td>\n",
       "      <td>NaN</td>\n",
       "      <td>0.0</td>\n",
       "      <td>NaN</td>\n",
       "      <td>NaN</td>\n",
       "      <td>NaN</td>\n",
       "      <td>NaN</td>\n",
       "      <td>0.0</td>\n",
       "    </tr>\n",
       "    <tr>\n",
       "      <th>41970</th>\n",
       "      <td>90560</td>\n",
       "      <td>SNAIL,RAW</td>\n",
       "      <td>79.20</td>\n",
       "      <td>90.0</td>\n",
       "      <td>16.10</td>\n",
       "      <td>1.40</td>\n",
       "      <td>1.30</td>\n",
       "      <td>2.00</td>\n",
       "      <td>0.0</td>\n",
       "      <td>0.00</td>\n",
       "      <td>...</td>\n",
       "      <td>0.0</td>\n",
       "      <td>NaN</td>\n",
       "      <td>NaN</td>\n",
       "      <td>NaN</td>\n",
       "      <td>0.1</td>\n",
       "      <td>NaN</td>\n",
       "      <td>NaN</td>\n",
       "      <td>NaN</td>\n",
       "      <td>NaN</td>\n",
       "      <td>0.0</td>\n",
       "    </tr>\n",
       "    <tr>\n",
       "      <th>41971</th>\n",
       "      <td>93600</td>\n",
       "      <td>TURTLE,GREEN,RAW</td>\n",
       "      <td>78.50</td>\n",
       "      <td>89.0</td>\n",
       "      <td>19.80</td>\n",
       "      <td>0.50</td>\n",
       "      <td>1.20</td>\n",
       "      <td>0.00</td>\n",
       "      <td>0.0</td>\n",
       "      <td>0.00</td>\n",
       "      <td>...</td>\n",
       "      <td>0.0</td>\n",
       "      <td>NaN</td>\n",
       "      <td>NaN</td>\n",
       "      <td>NaN</td>\n",
       "      <td>0.1</td>\n",
       "      <td>NaN</td>\n",
       "      <td>NaN</td>\n",
       "      <td>NaN</td>\n",
       "      <td>NaN</td>\n",
       "      <td>0.0</td>\n",
       "    </tr>\n",
       "  </tbody>\n",
       "</table>\n",
       "<p>41972 rows × 62 columns</p>\n",
       "</div>"
      ],
      "text/plain": [
       "       NDB_No                   Shrt_Desc  Water_(g)  Energ_Kcal  Protein_(g)  \\\n",
       "0        1001            BUTTER,WITH SALT      15.87       717.0         0.85   \n",
       "1        1002    BUTTER,WHIPPED,WITH SALT      15.87       717.0         0.85   \n",
       "2        1003        BUTTER OIL,ANHYDROUS       0.24       876.0         0.28   \n",
       "3        1004                 CHEESE,BLUE      42.41       353.0        21.40   \n",
       "4        1005                CHEESE,BRICK      41.11       371.0        23.24   \n",
       "...       ...                         ...        ...         ...          ...   \n",
       "41967   83110             MACKEREL,SALTED      43.00       305.0        18.50   \n",
       "41968   90240  SCALLOP,(BAY&SEA),CKD,STMD      70.25       111.0        20.54   \n",
       "41969   90480                  SYRUP,CANE      26.00       269.0         0.00   \n",
       "41970   90560                   SNAIL,RAW      79.20        90.0        16.10   \n",
       "41971   93600            TURTLE,GREEN,RAW      78.50        89.0        19.80   \n",
       "\n",
       "       Lipid_Tot_(g)  Ash_(g)  Carbohydrt_(g)  Fiber_TD_(g)  Sugar_Tot_(g)  \\\n",
       "0              81.11     2.11            0.06           0.0           0.06   \n",
       "1              81.11     2.11            0.06           0.0           0.06   \n",
       "2              99.48     0.00            0.00           0.0           0.00   \n",
       "3              28.74     5.11            2.34           0.0           0.50   \n",
       "4              29.68     3.18            2.79           0.0           0.51   \n",
       "...              ...      ...             ...           ...            ...   \n",
       "41967          25.10    13.40            0.00           0.0           0.00   \n",
       "41968           0.84     2.97            5.41           0.0           0.00   \n",
       "41969           0.00     0.86           73.14           0.0          73.20   \n",
       "41970           1.40     1.30            2.00           0.0           0.00   \n",
       "41971           0.50     1.20            0.00           0.0           0.00   \n",
       "\n",
       "       ...  Refuse_Pct  Copper_(mg)  Vit_D_(µg)  Vit_D_(IU)  Vit_K_(µg)  \\\n",
       "0      ...         0.0          NaN         NaN         NaN         NaN   \n",
       "1      ...         0.0          NaN         NaN         NaN         NaN   \n",
       "2      ...         0.0          NaN         NaN         NaN         NaN   \n",
       "3      ...         0.0          NaN         NaN         NaN         NaN   \n",
       "4      ...         0.0          NaN         NaN         NaN         NaN   \n",
       "...    ...         ...          ...         ...         ...         ...   \n",
       "41967  ...         0.0          NaN         NaN         NaN         7.8   \n",
       "41968  ...         0.0          NaN         NaN         NaN         0.0   \n",
       "41969  ...         0.0          NaN         NaN         NaN         0.0   \n",
       "41970  ...         0.0          NaN         NaN         NaN         0.1   \n",
       "41971  ...         0.0          NaN         NaN         NaN         0.1   \n",
       "\n",
       "       Panto_Acid_(mg)  Choline_Tot_(mg)  Vit_A_RAE_(µg)_  Lut+Zea_(µg)  \\\n",
       "0                  NaN               NaN              NaN           NaN   \n",
       "1                  NaN               NaN              NaN           NaN   \n",
       "2                  NaN               NaN              NaN           NaN   \n",
       "3                  NaN               NaN              NaN           NaN   \n",
       "4                  NaN               NaN              NaN           NaN   \n",
       "...                ...               ...              ...           ...   \n",
       "41967              NaN               NaN              NaN           NaN   \n",
       "41968              NaN               NaN              NaN           NaN   \n",
       "41969              NaN               NaN              NaN           NaN   \n",
       "41970              NaN               NaN              NaN           NaN   \n",
       "41971              NaN               NaN              NaN           NaN   \n",
       "\n",
       "       Vit_D_IU  \n",
       "0           NaN  \n",
       "1           NaN  \n",
       "2           NaN  \n",
       "3           NaN  \n",
       "4           NaN  \n",
       "...         ...  \n",
       "41967    1006.0  \n",
       "41968       2.0  \n",
       "41969       0.0  \n",
       "41970       0.0  \n",
       "41971       0.0  \n",
       "\n",
       "[41972 rows x 62 columns]"
      ]
     },
     "execution_count": 5,
     "metadata": {},
     "output_type": "execute_result"
    }
   ],
   "source": [
    "#check the dataframe\n",
    "all_data"
   ]
  },
  {
   "cell_type": "code",
   "execution_count": 6,
   "metadata": {},
   "outputs": [
    {
     "data": {
      "text/html": [
       "<div>\n",
       "<style scoped>\n",
       "    .dataframe tbody tr th:only-of-type {\n",
       "        vertical-align: middle;\n",
       "    }\n",
       "\n",
       "    .dataframe tbody tr th {\n",
       "        vertical-align: top;\n",
       "    }\n",
       "\n",
       "    .dataframe thead th {\n",
       "        text-align: right;\n",
       "    }\n",
       "</style>\n",
       "<table border=\"1\" class=\"dataframe\">\n",
       "  <thead>\n",
       "    <tr style=\"text-align: right;\">\n",
       "      <th></th>\n",
       "      <th>NDB_No</th>\n",
       "      <th>Shrt_Desc</th>\n",
       "      <th>Water_(g)</th>\n",
       "      <th>Energ_Kcal</th>\n",
       "      <th>Protein_(g)</th>\n",
       "      <th>Lipid_Tot_(g)</th>\n",
       "      <th>Ash_(g)</th>\n",
       "      <th>Carbohydrt_(g)</th>\n",
       "      <th>Fiber_TD_(g)</th>\n",
       "      <th>Sugar_Tot_(g)</th>\n",
       "      <th>...</th>\n",
       "      <th>Refuse_Pct</th>\n",
       "      <th>Copper_(mg)</th>\n",
       "      <th>Vit_D_(µg)</th>\n",
       "      <th>Vit_D_(IU)</th>\n",
       "      <th>Vit_K_(µg)</th>\n",
       "      <th>Panto_Acid_(mg)</th>\n",
       "      <th>Choline_Tot_(mg)</th>\n",
       "      <th>Vit_A_RAE_(µg)_</th>\n",
       "      <th>Lut+Zea_(µg)</th>\n",
       "      <th>Vit_D_IU</th>\n",
       "    </tr>\n",
       "  </thead>\n",
       "  <tbody>\n",
       "    <tr>\n",
       "      <th>0</th>\n",
       "      <td>1001</td>\n",
       "      <td>BUTTER,WITH SALT</td>\n",
       "      <td>15.87</td>\n",
       "      <td>717.0</td>\n",
       "      <td>0.85</td>\n",
       "      <td>81.11</td>\n",
       "      <td>2.11</td>\n",
       "      <td>0.06</td>\n",
       "      <td>0.0</td>\n",
       "      <td>0.06</td>\n",
       "      <td>...</td>\n",
       "      <td>0.0</td>\n",
       "      <td>NaN</td>\n",
       "      <td>NaN</td>\n",
       "      <td>NaN</td>\n",
       "      <td>NaN</td>\n",
       "      <td>NaN</td>\n",
       "      <td>NaN</td>\n",
       "      <td>NaN</td>\n",
       "      <td>NaN</td>\n",
       "      <td>NaN</td>\n",
       "    </tr>\n",
       "    <tr>\n",
       "      <th>1</th>\n",
       "      <td>1002</td>\n",
       "      <td>BUTTER,WHIPPED,WITH SALT</td>\n",
       "      <td>15.87</td>\n",
       "      <td>717.0</td>\n",
       "      <td>0.85</td>\n",
       "      <td>81.11</td>\n",
       "      <td>2.11</td>\n",
       "      <td>0.06</td>\n",
       "      <td>0.0</td>\n",
       "      <td>0.06</td>\n",
       "      <td>...</td>\n",
       "      <td>0.0</td>\n",
       "      <td>NaN</td>\n",
       "      <td>NaN</td>\n",
       "      <td>NaN</td>\n",
       "      <td>NaN</td>\n",
       "      <td>NaN</td>\n",
       "      <td>NaN</td>\n",
       "      <td>NaN</td>\n",
       "      <td>NaN</td>\n",
       "      <td>NaN</td>\n",
       "    </tr>\n",
       "    <tr>\n",
       "      <th>2</th>\n",
       "      <td>1003</td>\n",
       "      <td>BUTTER OIL,ANHYDROUS</td>\n",
       "      <td>0.24</td>\n",
       "      <td>876.0</td>\n",
       "      <td>0.28</td>\n",
       "      <td>99.48</td>\n",
       "      <td>0.00</td>\n",
       "      <td>0.00</td>\n",
       "      <td>0.0</td>\n",
       "      <td>0.00</td>\n",
       "      <td>...</td>\n",
       "      <td>0.0</td>\n",
       "      <td>NaN</td>\n",
       "      <td>NaN</td>\n",
       "      <td>NaN</td>\n",
       "      <td>NaN</td>\n",
       "      <td>NaN</td>\n",
       "      <td>NaN</td>\n",
       "      <td>NaN</td>\n",
       "      <td>NaN</td>\n",
       "      <td>NaN</td>\n",
       "    </tr>\n",
       "    <tr>\n",
       "      <th>3</th>\n",
       "      <td>1004</td>\n",
       "      <td>CHEESE,BLUE</td>\n",
       "      <td>42.41</td>\n",
       "      <td>353.0</td>\n",
       "      <td>21.40</td>\n",
       "      <td>28.74</td>\n",
       "      <td>5.11</td>\n",
       "      <td>2.34</td>\n",
       "      <td>0.0</td>\n",
       "      <td>0.50</td>\n",
       "      <td>...</td>\n",
       "      <td>0.0</td>\n",
       "      <td>NaN</td>\n",
       "      <td>NaN</td>\n",
       "      <td>NaN</td>\n",
       "      <td>NaN</td>\n",
       "      <td>NaN</td>\n",
       "      <td>NaN</td>\n",
       "      <td>NaN</td>\n",
       "      <td>NaN</td>\n",
       "      <td>NaN</td>\n",
       "    </tr>\n",
       "    <tr>\n",
       "      <th>4</th>\n",
       "      <td>1005</td>\n",
       "      <td>CHEESE,BRICK</td>\n",
       "      <td>41.11</td>\n",
       "      <td>371.0</td>\n",
       "      <td>23.24</td>\n",
       "      <td>29.68</td>\n",
       "      <td>3.18</td>\n",
       "      <td>2.79</td>\n",
       "      <td>0.0</td>\n",
       "      <td>0.51</td>\n",
       "      <td>...</td>\n",
       "      <td>0.0</td>\n",
       "      <td>NaN</td>\n",
       "      <td>NaN</td>\n",
       "      <td>NaN</td>\n",
       "      <td>NaN</td>\n",
       "      <td>NaN</td>\n",
       "      <td>NaN</td>\n",
       "      <td>NaN</td>\n",
       "      <td>NaN</td>\n",
       "      <td>NaN</td>\n",
       "    </tr>\n",
       "  </tbody>\n",
       "</table>\n",
       "<p>5 rows × 62 columns</p>\n",
       "</div>"
      ],
      "text/plain": [
       "   NDB_No                 Shrt_Desc  Water_(g)  Energ_Kcal  Protein_(g)  \\\n",
       "0    1001          BUTTER,WITH SALT      15.87       717.0         0.85   \n",
       "1    1002  BUTTER,WHIPPED,WITH SALT      15.87       717.0         0.85   \n",
       "2    1003      BUTTER OIL,ANHYDROUS       0.24       876.0         0.28   \n",
       "3    1004               CHEESE,BLUE      42.41       353.0        21.40   \n",
       "4    1005              CHEESE,BRICK      41.11       371.0        23.24   \n",
       "\n",
       "   Lipid_Tot_(g)  Ash_(g)  Carbohydrt_(g)  Fiber_TD_(g)  Sugar_Tot_(g)  ...  \\\n",
       "0          81.11     2.11            0.06           0.0           0.06  ...   \n",
       "1          81.11     2.11            0.06           0.0           0.06  ...   \n",
       "2          99.48     0.00            0.00           0.0           0.00  ...   \n",
       "3          28.74     5.11            2.34           0.0           0.50  ...   \n",
       "4          29.68     3.18            2.79           0.0           0.51  ...   \n",
       "\n",
       "   Refuse_Pct  Copper_(mg)  Vit_D_(µg)  Vit_D_(IU)  Vit_K_(µg)  \\\n",
       "0         0.0          NaN         NaN         NaN         NaN   \n",
       "1         0.0          NaN         NaN         NaN         NaN   \n",
       "2         0.0          NaN         NaN         NaN         NaN   \n",
       "3         0.0          NaN         NaN         NaN         NaN   \n",
       "4         0.0          NaN         NaN         NaN         NaN   \n",
       "\n",
       "   Panto_Acid_(mg)  Choline_Tot_(mg)  Vit_A_RAE_(µg)_  Lut+Zea_(µg)  Vit_D_IU  \n",
       "0              NaN               NaN              NaN           NaN       NaN  \n",
       "1              NaN               NaN              NaN           NaN       NaN  \n",
       "2              NaN               NaN              NaN           NaN       NaN  \n",
       "3              NaN               NaN              NaN           NaN       NaN  \n",
       "4              NaN               NaN              NaN           NaN       NaN  \n",
       "\n",
       "[5 rows x 62 columns]"
      ]
     },
     "execution_count": 6,
     "metadata": {},
     "output_type": "execute_result"
    }
   ],
   "source": [
    "all_data.head()"
   ]
  },
  {
   "cell_type": "code",
   "execution_count": 7,
   "metadata": {},
   "outputs": [
    {
     "data": {
      "text/plain": [
       "(41972, 62)"
      ]
     },
     "execution_count": 7,
     "metadata": {},
     "output_type": "execute_result"
    }
   ],
   "source": [
    "# Check the shape of the df\n",
    "all_data.shape"
   ]
  },
  {
   "cell_type": "code",
   "execution_count": 8,
   "metadata": {},
   "outputs": [],
   "source": [
    "# Filter only the products which has milk in it\n",
    "df1=all_data[all_data['Shrt_Desc'].str.contains(\"MILK\")]"
   ]
  },
  {
   "cell_type": "code",
   "execution_count": 9,
   "metadata": {},
   "outputs": [
    {
     "data": {
      "text/html": [
       "<div>\n",
       "<style scoped>\n",
       "    .dataframe tbody tr th:only-of-type {\n",
       "        vertical-align: middle;\n",
       "    }\n",
       "\n",
       "    .dataframe tbody tr th {\n",
       "        vertical-align: top;\n",
       "    }\n",
       "\n",
       "    .dataframe thead th {\n",
       "        text-align: right;\n",
       "    }\n",
       "</style>\n",
       "<table border=\"1\" class=\"dataframe\">\n",
       "  <thead>\n",
       "    <tr style=\"text-align: right;\">\n",
       "      <th></th>\n",
       "      <th>NDB_No</th>\n",
       "      <th>Shrt_Desc</th>\n",
       "      <th>Water_(g)</th>\n",
       "      <th>Energ_Kcal</th>\n",
       "      <th>Protein_(g)</th>\n",
       "      <th>Lipid_Tot_(g)</th>\n",
       "      <th>Ash_(g)</th>\n",
       "      <th>Carbohydrt_(g)</th>\n",
       "      <th>Fiber_TD_(g)</th>\n",
       "      <th>Sugar_Tot_(g)</th>\n",
       "      <th>...</th>\n",
       "      <th>Refuse_Pct</th>\n",
       "      <th>Copper_(mg)</th>\n",
       "      <th>Vit_D_(µg)</th>\n",
       "      <th>Vit_D_(IU)</th>\n",
       "      <th>Vit_K_(µg)</th>\n",
       "      <th>Panto_Acid_(mg)</th>\n",
       "      <th>Choline_Tot_(mg)</th>\n",
       "      <th>Vit_A_RAE_(µg)_</th>\n",
       "      <th>Lut+Zea_(µg)</th>\n",
       "      <th>Vit_D_IU</th>\n",
       "    </tr>\n",
       "  </thead>\n",
       "  <tbody>\n",
       "    <tr>\n",
       "      <th>14</th>\n",
       "      <td>1015</td>\n",
       "      <td>CHEESE,COTTAGE,LOWFAT,2% MILKFAT</td>\n",
       "      <td>80.69</td>\n",
       "      <td>86.0</td>\n",
       "      <td>11.83</td>\n",
       "      <td>2.45</td>\n",
       "      <td>1.36</td>\n",
       "      <td>3.66</td>\n",
       "      <td>0.0</td>\n",
       "      <td>3.67</td>\n",
       "      <td>...</td>\n",
       "      <td>0.0</td>\n",
       "      <td>NaN</td>\n",
       "      <td>NaN</td>\n",
       "      <td>NaN</td>\n",
       "      <td>NaN</td>\n",
       "      <td>NaN</td>\n",
       "      <td>NaN</td>\n",
       "      <td>NaN</td>\n",
       "      <td>NaN</td>\n",
       "      <td>NaN</td>\n",
       "    </tr>\n",
       "    <tr>\n",
       "      <th>15</th>\n",
       "      <td>1016</td>\n",
       "      <td>CHEESE,COTTAGE,LOWFAT,1% MILKFAT</td>\n",
       "      <td>82.48</td>\n",
       "      <td>72.0</td>\n",
       "      <td>12.39</td>\n",
       "      <td>1.02</td>\n",
       "      <td>1.39</td>\n",
       "      <td>2.72</td>\n",
       "      <td>0.0</td>\n",
       "      <td>2.72</td>\n",
       "      <td>...</td>\n",
       "      <td>0.0</td>\n",
       "      <td>NaN</td>\n",
       "      <td>NaN</td>\n",
       "      <td>NaN</td>\n",
       "      <td>NaN</td>\n",
       "      <td>NaN</td>\n",
       "      <td>NaN</td>\n",
       "      <td>NaN</td>\n",
       "      <td>NaN</td>\n",
       "      <td>NaN</td>\n",
       "    </tr>\n",
       "    <tr>\n",
       "      <th>25</th>\n",
       "      <td>1026</td>\n",
       "      <td>CHEESE,MOZZARELLA,WHL MILK</td>\n",
       "      <td>50.01</td>\n",
       "      <td>300.0</td>\n",
       "      <td>22.17</td>\n",
       "      <td>22.35</td>\n",
       "      <td>3.28</td>\n",
       "      <td>2.19</td>\n",
       "      <td>0.0</td>\n",
       "      <td>1.03</td>\n",
       "      <td>...</td>\n",
       "      <td>0.0</td>\n",
       "      <td>NaN</td>\n",
       "      <td>NaN</td>\n",
       "      <td>NaN</td>\n",
       "      <td>NaN</td>\n",
       "      <td>NaN</td>\n",
       "      <td>NaN</td>\n",
       "      <td>NaN</td>\n",
       "      <td>NaN</td>\n",
       "      <td>NaN</td>\n",
       "    </tr>\n",
       "    <tr>\n",
       "      <th>26</th>\n",
       "      <td>1027</td>\n",
       "      <td>CHEESE,MOZZARELLA,WHL MILK,LO MOIST</td>\n",
       "      <td>48.38</td>\n",
       "      <td>318.0</td>\n",
       "      <td>21.60</td>\n",
       "      <td>24.64</td>\n",
       "      <td>2.91</td>\n",
       "      <td>2.47</td>\n",
       "      <td>0.0</td>\n",
       "      <td>1.01</td>\n",
       "      <td>...</td>\n",
       "      <td>0.0</td>\n",
       "      <td>NaN</td>\n",
       "      <td>NaN</td>\n",
       "      <td>NaN</td>\n",
       "      <td>NaN</td>\n",
       "      <td>NaN</td>\n",
       "      <td>NaN</td>\n",
       "      <td>NaN</td>\n",
       "      <td>NaN</td>\n",
       "      <td>NaN</td>\n",
       "    </tr>\n",
       "    <tr>\n",
       "      <th>27</th>\n",
       "      <td>1028</td>\n",
       "      <td>CHEESE,MOZZARELLA,PART SKIM MILK</td>\n",
       "      <td>53.78</td>\n",
       "      <td>254.0</td>\n",
       "      <td>24.26</td>\n",
       "      <td>15.92</td>\n",
       "      <td>3.27</td>\n",
       "      <td>2.77</td>\n",
       "      <td>0.0</td>\n",
       "      <td>1.13</td>\n",
       "      <td>...</td>\n",
       "      <td>0.0</td>\n",
       "      <td>NaN</td>\n",
       "      <td>NaN</td>\n",
       "      <td>NaN</td>\n",
       "      <td>NaN</td>\n",
       "      <td>NaN</td>\n",
       "      <td>NaN</td>\n",
       "      <td>NaN</td>\n",
       "      <td>NaN</td>\n",
       "      <td>NaN</td>\n",
       "    </tr>\n",
       "    <tr>\n",
       "      <th>...</th>\n",
       "      <td>...</td>\n",
       "      <td>...</td>\n",
       "      <td>...</td>\n",
       "      <td>...</td>\n",
       "      <td>...</td>\n",
       "      <td>...</td>\n",
       "      <td>...</td>\n",
       "      <td>...</td>\n",
       "      <td>...</td>\n",
       "      <td>...</td>\n",
       "      <td>...</td>\n",
       "      <td>...</td>\n",
       "      <td>...</td>\n",
       "      <td>...</td>\n",
       "      <td>...</td>\n",
       "      <td>...</td>\n",
       "      <td>...</td>\n",
       "      <td>...</td>\n",
       "      <td>...</td>\n",
       "      <td>...</td>\n",
       "      <td>...</td>\n",
       "    </tr>\n",
       "    <tr>\n",
       "      <th>41838</th>\n",
       "      <td>43078</td>\n",
       "      <td>BEVERAGE,MILKSHAKE MIX,DRY,NOT CHOC</td>\n",
       "      <td>12.80</td>\n",
       "      <td>329.0</td>\n",
       "      <td>23.50</td>\n",
       "      <td>2.60</td>\n",
       "      <td>8.20</td>\n",
       "      <td>52.90</td>\n",
       "      <td>1.6</td>\n",
       "      <td>51.30</td>\n",
       "      <td>...</td>\n",
       "      <td>0.0</td>\n",
       "      <td>NaN</td>\n",
       "      <td>NaN</td>\n",
       "      <td>NaN</td>\n",
       "      <td>0.2</td>\n",
       "      <td>NaN</td>\n",
       "      <td>NaN</td>\n",
       "      <td>NaN</td>\n",
       "      <td>NaN</td>\n",
       "      <td>0.0</td>\n",
       "    </tr>\n",
       "    <tr>\n",
       "      <th>41894</th>\n",
       "      <td>43352</td>\n",
       "      <td>CHEESE,COTTAGE,LOWFAT,1% MILKFAT,NO NA</td>\n",
       "      <td>83.50</td>\n",
       "      <td>72.0</td>\n",
       "      <td>12.40</td>\n",
       "      <td>1.00</td>\n",
       "      <td>0.40</td>\n",
       "      <td>2.70</td>\n",
       "      <td>0.0</td>\n",
       "      <td>2.70</td>\n",
       "      <td>...</td>\n",
       "      <td>0.0</td>\n",
       "      <td>NaN</td>\n",
       "      <td>NaN</td>\n",
       "      <td>NaN</td>\n",
       "      <td>0.1</td>\n",
       "      <td>NaN</td>\n",
       "      <td>NaN</td>\n",
       "      <td>NaN</td>\n",
       "      <td>NaN</td>\n",
       "      <td>0.0</td>\n",
       "    </tr>\n",
       "    <tr>\n",
       "      <th>41900</th>\n",
       "      <td>43369</td>\n",
       "      <td>BEVERAGES,CHOCOLATE-FLAVORED DRK,WHEY &amp; MILK BSD</td>\n",
       "      <td>87.63</td>\n",
       "      <td>49.0</td>\n",
       "      <td>0.64</td>\n",
       "      <td>0.40</td>\n",
       "      <td>0.58</td>\n",
       "      <td>10.68</td>\n",
       "      <td>0.6</td>\n",
       "      <td>8.68</td>\n",
       "      <td>...</td>\n",
       "      <td>0.0</td>\n",
       "      <td>NaN</td>\n",
       "      <td>NaN</td>\n",
       "      <td>NaN</td>\n",
       "      <td>0.1</td>\n",
       "      <td>NaN</td>\n",
       "      <td>NaN</td>\n",
       "      <td>NaN</td>\n",
       "      <td>NaN</td>\n",
       "      <td>50.0</td>\n",
       "    </tr>\n",
       "    <tr>\n",
       "      <th>41911</th>\n",
       "      <td>43396</td>\n",
       "      <td>CHEESE,COTTAGE,LOWFAT,1% MILKFAT,W/VEG</td>\n",
       "      <td>83.50</td>\n",
       "      <td>67.0</td>\n",
       "      <td>10.90</td>\n",
       "      <td>1.00</td>\n",
       "      <td>1.60</td>\n",
       "      <td>3.00</td>\n",
       "      <td>0.0</td>\n",
       "      <td>3.00</td>\n",
       "      <td>...</td>\n",
       "      <td>0.0</td>\n",
       "      <td>NaN</td>\n",
       "      <td>NaN</td>\n",
       "      <td>NaN</td>\n",
       "      <td>2.6</td>\n",
       "      <td>NaN</td>\n",
       "      <td>NaN</td>\n",
       "      <td>NaN</td>\n",
       "      <td>NaN</td>\n",
       "      <td>0.0</td>\n",
       "    </tr>\n",
       "    <tr>\n",
       "      <th>41941</th>\n",
       "      <td>43543</td>\n",
       "      <td>MILK,IMITATION,NON-SOY</td>\n",
       "      <td>90.00</td>\n",
       "      <td>46.0</td>\n",
       "      <td>1.60</td>\n",
       "      <td>2.00</td>\n",
       "      <td>1.10</td>\n",
       "      <td>5.30</td>\n",
       "      <td>0.0</td>\n",
       "      <td>5.30</td>\n",
       "      <td>...</td>\n",
       "      <td>0.0</td>\n",
       "      <td>NaN</td>\n",
       "      <td>NaN</td>\n",
       "      <td>NaN</td>\n",
       "      <td>0.0</td>\n",
       "      <td>NaN</td>\n",
       "      <td>NaN</td>\n",
       "      <td>NaN</td>\n",
       "      <td>NaN</td>\n",
       "      <td>42.0</td>\n",
       "    </tr>\n",
       "  </tbody>\n",
       "</table>\n",
       "<p>1225 rows × 62 columns</p>\n",
       "</div>"
      ],
      "text/plain": [
       "       NDB_No                                         Shrt_Desc  Water_(g)  \\\n",
       "14       1015                  CHEESE,COTTAGE,LOWFAT,2% MILKFAT      80.69   \n",
       "15       1016                  CHEESE,COTTAGE,LOWFAT,1% MILKFAT      82.48   \n",
       "25       1026                        CHEESE,MOZZARELLA,WHL MILK      50.01   \n",
       "26       1027               CHEESE,MOZZARELLA,WHL MILK,LO MOIST      48.38   \n",
       "27       1028                  CHEESE,MOZZARELLA,PART SKIM MILK      53.78   \n",
       "...       ...                                               ...        ...   \n",
       "41838   43078               BEVERAGE,MILKSHAKE MIX,DRY,NOT CHOC      12.80   \n",
       "41894   43352            CHEESE,COTTAGE,LOWFAT,1% MILKFAT,NO NA      83.50   \n",
       "41900   43369  BEVERAGES,CHOCOLATE-FLAVORED DRK,WHEY & MILK BSD      87.63   \n",
       "41911   43396            CHEESE,COTTAGE,LOWFAT,1% MILKFAT,W/VEG      83.50   \n",
       "41941   43543                            MILK,IMITATION,NON-SOY      90.00   \n",
       "\n",
       "       Energ_Kcal  Protein_(g)  Lipid_Tot_(g)  Ash_(g)  Carbohydrt_(g)  \\\n",
       "14           86.0        11.83           2.45     1.36            3.66   \n",
       "15           72.0        12.39           1.02     1.39            2.72   \n",
       "25          300.0        22.17          22.35     3.28            2.19   \n",
       "26          318.0        21.60          24.64     2.91            2.47   \n",
       "27          254.0        24.26          15.92     3.27            2.77   \n",
       "...           ...          ...            ...      ...             ...   \n",
       "41838       329.0        23.50           2.60     8.20           52.90   \n",
       "41894        72.0        12.40           1.00     0.40            2.70   \n",
       "41900        49.0         0.64           0.40     0.58           10.68   \n",
       "41911        67.0        10.90           1.00     1.60            3.00   \n",
       "41941        46.0         1.60           2.00     1.10            5.30   \n",
       "\n",
       "       Fiber_TD_(g)  Sugar_Tot_(g)  ...  Refuse_Pct  Copper_(mg)  Vit_D_(µg)  \\\n",
       "14              0.0           3.67  ...         0.0          NaN         NaN   \n",
       "15              0.0           2.72  ...         0.0          NaN         NaN   \n",
       "25              0.0           1.03  ...         0.0          NaN         NaN   \n",
       "26              0.0           1.01  ...         0.0          NaN         NaN   \n",
       "27              0.0           1.13  ...         0.0          NaN         NaN   \n",
       "...             ...            ...  ...         ...          ...         ...   \n",
       "41838           1.6          51.30  ...         0.0          NaN         NaN   \n",
       "41894           0.0           2.70  ...         0.0          NaN         NaN   \n",
       "41900           0.6           8.68  ...         0.0          NaN         NaN   \n",
       "41911           0.0           3.00  ...         0.0          NaN         NaN   \n",
       "41941           0.0           5.30  ...         0.0          NaN         NaN   \n",
       "\n",
       "       Vit_D_(IU)  Vit_K_(µg)  Panto_Acid_(mg)  Choline_Tot_(mg)  \\\n",
       "14            NaN         NaN              NaN               NaN   \n",
       "15            NaN         NaN              NaN               NaN   \n",
       "25            NaN         NaN              NaN               NaN   \n",
       "26            NaN         NaN              NaN               NaN   \n",
       "27            NaN         NaN              NaN               NaN   \n",
       "...           ...         ...              ...               ...   \n",
       "41838         NaN         0.2              NaN               NaN   \n",
       "41894         NaN         0.1              NaN               NaN   \n",
       "41900         NaN         0.1              NaN               NaN   \n",
       "41911         NaN         2.6              NaN               NaN   \n",
       "41941         NaN         0.0              NaN               NaN   \n",
       "\n",
       "       Vit_A_RAE_(µg)_  Lut+Zea_(µg)  Vit_D_IU  \n",
       "14                 NaN           NaN       NaN  \n",
       "15                 NaN           NaN       NaN  \n",
       "25                 NaN           NaN       NaN  \n",
       "26                 NaN           NaN       NaN  \n",
       "27                 NaN           NaN       NaN  \n",
       "...                ...           ...       ...  \n",
       "41838              NaN           NaN       0.0  \n",
       "41894              NaN           NaN       0.0  \n",
       "41900              NaN           NaN      50.0  \n",
       "41911              NaN           NaN       0.0  \n",
       "41941              NaN           NaN      42.0  \n",
       "\n",
       "[1225 rows x 62 columns]"
      ]
     },
     "execution_count": 9,
     "metadata": {},
     "output_type": "execute_result"
    }
   ],
   "source": [
    "df1"
   ]
  },
  {
   "cell_type": "code",
   "execution_count": 31,
   "metadata": {},
   "outputs": [
    {
     "data": {
      "text/plain": [
       "(1225, 62)"
      ]
     },
     "execution_count": 31,
     "metadata": {},
     "output_type": "execute_result"
    }
   ],
   "source": [
    "# Check the shape of the dataframe after filtering the products\n",
    "df1.shape"
   ]
  },
  {
   "cell_type": "markdown",
   "metadata": {},
   "source": [
    "## Data Examination and cleaning it according to our requirement\n",
    "This dataset is a part of Methods and Application of Food Composition Laboratory: Beltsville, MD  which mission is to identify critical food composition needs for researchers, policymakers, food producers etc.\n",
    "\n",
    "reference:USa.philips.com/c-m-pe/face-stylers-and-grooming-kits/multigroomers/latest#filters=MULTIGROOMERS_SU\n",
    "\n",
    "In the above data set there are 62 different nutritional values. My goal of the project is to use the widely known milk nutritient values to identify the milk category. Thus, I have consider only 29 out of the 62 nutrients which I feel is know by a common man. The nutrients I have considered are as follows:\n"
   ]
  },
  {
   "cell_type": "code",
   "execution_count": 59,
   "metadata": {},
   "outputs": [],
   "source": [
    "list=['Calcium_(mg)','Lipid_Tot_(g)','Energ_Kcal','Carbohydrt_(g)', 'Cholestrl_(mg)','Protein_(g)','Vit_A_IU', 'Vit_A_RAE',\n",
    "       'Vit_A_RAE_(µg)_','Water_(g)','Iron_(mg)','Thiamin_(mg)','Riboflavin_(mg)','Niacin_(mg)','Panto_Acid_mg)','Vit_B6_(mg)',\n",
    "       'Magnesium_(mg)', 'Phosphorus_(mg)', 'Potassium_(mg)', 'Sodium_(mg)','Ash_(g)','Zinc_(mg)', 'Copper_mg)', 'Manganese_(mg)', 'Selenium_(µg)',\n",
    "       'Vit_C_(mg)','Vit_E_(mg)', 'Vit_D_IU','Vit_K_(µg)','Zinc_(mg)']"
   ]
  },
  {
   "cell_type": "code",
   "execution_count": 60,
   "metadata": {},
   "outputs": [],
   "source": [
    "df=df1[list]"
   ]
  },
  {
   "cell_type": "code",
   "execution_count": 21,
   "metadata": {},
   "outputs": [
    {
     "data": {
      "text/plain": [
       "Index(['Calcium_(mg)', 'Lipid_Tot_(g)', 'Energ_Kcal', 'Carbohydrt_(g)',\n",
       "       'Cholestrl_(mg)', 'Protein_(g)', 'Vit_A_IU', 'Vit_A_RAE',\n",
       "       'Vit_A_RAE_(µg)_', 'Water_(g)', 'Iron_(mg)', 'Thiamin_(mg)',\n",
       "       'Riboflavin_(mg)', 'Niacin_(mg)', 'Panto_Acid_mg)', 'Vit_B6_(mg)',\n",
       "       'Magnesium_(mg)', 'Phosphorus_(mg)', 'Potassium_(mg)', 'Sodium_(mg)',\n",
       "       'Ash_(g)', 'Zinc_(mg)', 'Copper_mg)', 'Manganese_(mg)', 'Selenium_(µg)',\n",
       "       'Vit_C_(mg)', 'Vit_E_(mg)', 'Vit_D_IU', 'Vit_K_(µg)', 'Zinc_(mg)'],\n",
       "      dtype='object')"
      ]
     },
     "execution_count": 21,
     "metadata": {},
     "output_type": "execute_result"
    }
   ],
   "source": [
    "df.columns"
   ]
  },
  {
   "cell_type": "code",
   "execution_count": 22,
   "metadata": {},
   "outputs": [],
   "source": [
    "# Converting it into CSV file and reading the same\n",
    "df.to_csv(\"Final_dataset_milk.csv\", index=False)\n",
    "df = pd.read_csv('Final_dataset_milk.csv')"
   ]
  },
  {
   "cell_type": "code",
   "execution_count": 25,
   "metadata": {
    "scrolled": true
   },
   "outputs": [
    {
     "data": {
      "text/html": [
       "<div>\n",
       "<style scoped>\n",
       "    .dataframe tbody tr th:only-of-type {\n",
       "        vertical-align: middle;\n",
       "    }\n",
       "\n",
       "    .dataframe tbody tr th {\n",
       "        vertical-align: top;\n",
       "    }\n",
       "\n",
       "    .dataframe thead th {\n",
       "        text-align: right;\n",
       "    }\n",
       "</style>\n",
       "<table border=\"1\" class=\"dataframe\">\n",
       "  <thead>\n",
       "    <tr style=\"text-align: right;\">\n",
       "      <th></th>\n",
       "      <th>Calcium_(mg)</th>\n",
       "      <th>Lipid_Tot_(g)</th>\n",
       "      <th>Energ_Kcal</th>\n",
       "      <th>Carbohydrt_(g)</th>\n",
       "      <th>Cholestrl_(mg)</th>\n",
       "      <th>Protein_(g)</th>\n",
       "      <th>Vit_A_IU</th>\n",
       "      <th>Vit_A_RAE</th>\n",
       "      <th>Vit_A_RAE_(µg)_</th>\n",
       "      <th>Water_(g)</th>\n",
       "      <th>...</th>\n",
       "      <th>Ash_(g)</th>\n",
       "      <th>Zinc_(mg)</th>\n",
       "      <th>Copper_mg)</th>\n",
       "      <th>Manganese_(mg)</th>\n",
       "      <th>Selenium_(µg)</th>\n",
       "      <th>Vit_C_(mg)</th>\n",
       "      <th>Vit_E_(mg)</th>\n",
       "      <th>Vit_D_IU</th>\n",
       "      <th>Vit_K_(µg)</th>\n",
       "      <th>Zinc_(mg).1</th>\n",
       "    </tr>\n",
       "  </thead>\n",
       "  <tbody>\n",
       "    <tr>\n",
       "      <th>0</th>\n",
       "      <td>91.0</td>\n",
       "      <td>2.45</td>\n",
       "      <td>86.0</td>\n",
       "      <td>3.66</td>\n",
       "      <td>10.0</td>\n",
       "      <td>11.83</td>\n",
       "      <td>74.0</td>\n",
       "      <td>20.0</td>\n",
       "      <td>NaN</td>\n",
       "      <td>80.69</td>\n",
       "      <td>...</td>\n",
       "      <td>1.36</td>\n",
       "      <td>0.41</td>\n",
       "      <td>0.030</td>\n",
       "      <td>0.007</td>\n",
       "      <td>9.9</td>\n",
       "      <td>0.0</td>\n",
       "      <td>0.04</td>\n",
       "      <td>NaN</td>\n",
       "      <td>NaN</td>\n",
       "      <td>0.41</td>\n",
       "    </tr>\n",
       "    <tr>\n",
       "      <th>1</th>\n",
       "      <td>61.0</td>\n",
       "      <td>1.02</td>\n",
       "      <td>72.0</td>\n",
       "      <td>2.72</td>\n",
       "      <td>4.0</td>\n",
       "      <td>12.39</td>\n",
       "      <td>41.0</td>\n",
       "      <td>11.0</td>\n",
       "      <td>NaN</td>\n",
       "      <td>82.48</td>\n",
       "      <td>...</td>\n",
       "      <td>1.39</td>\n",
       "      <td>0.38</td>\n",
       "      <td>0.028</td>\n",
       "      <td>0.003</td>\n",
       "      <td>9.0</td>\n",
       "      <td>0.0</td>\n",
       "      <td>0.01</td>\n",
       "      <td>NaN</td>\n",
       "      <td>NaN</td>\n",
       "      <td>0.38</td>\n",
       "    </tr>\n",
       "    <tr>\n",
       "      <th>2</th>\n",
       "      <td>505.0</td>\n",
       "      <td>22.35</td>\n",
       "      <td>300.0</td>\n",
       "      <td>2.19</td>\n",
       "      <td>79.0</td>\n",
       "      <td>22.17</td>\n",
       "      <td>676.0</td>\n",
       "      <td>179.0</td>\n",
       "      <td>NaN</td>\n",
       "      <td>50.01</td>\n",
       "      <td>...</td>\n",
       "      <td>3.28</td>\n",
       "      <td>2.92</td>\n",
       "      <td>0.011</td>\n",
       "      <td>0.030</td>\n",
       "      <td>17.0</td>\n",
       "      <td>0.0</td>\n",
       "      <td>0.19</td>\n",
       "      <td>NaN</td>\n",
       "      <td>NaN</td>\n",
       "      <td>2.92</td>\n",
       "    </tr>\n",
       "    <tr>\n",
       "      <th>3</th>\n",
       "      <td>575.0</td>\n",
       "      <td>24.64</td>\n",
       "      <td>318.0</td>\n",
       "      <td>2.47</td>\n",
       "      <td>89.0</td>\n",
       "      <td>21.60</td>\n",
       "      <td>745.0</td>\n",
       "      <td>197.0</td>\n",
       "      <td>NaN</td>\n",
       "      <td>48.38</td>\n",
       "      <td>...</td>\n",
       "      <td>2.91</td>\n",
       "      <td>2.46</td>\n",
       "      <td>0.022</td>\n",
       "      <td>0.009</td>\n",
       "      <td>16.1</td>\n",
       "      <td>0.0</td>\n",
       "      <td>0.21</td>\n",
       "      <td>NaN</td>\n",
       "      <td>NaN</td>\n",
       "      <td>2.46</td>\n",
       "    </tr>\n",
       "    <tr>\n",
       "      <th>4</th>\n",
       "      <td>782.0</td>\n",
       "      <td>15.92</td>\n",
       "      <td>254.0</td>\n",
       "      <td>2.77</td>\n",
       "      <td>64.0</td>\n",
       "      <td>24.26</td>\n",
       "      <td>481.0</td>\n",
       "      <td>127.0</td>\n",
       "      <td>NaN</td>\n",
       "      <td>53.78</td>\n",
       "      <td>...</td>\n",
       "      <td>3.27</td>\n",
       "      <td>2.76</td>\n",
       "      <td>0.025</td>\n",
       "      <td>0.010</td>\n",
       "      <td>14.4</td>\n",
       "      <td>0.0</td>\n",
       "      <td>0.14</td>\n",
       "      <td>NaN</td>\n",
       "      <td>NaN</td>\n",
       "      <td>2.76</td>\n",
       "    </tr>\n",
       "  </tbody>\n",
       "</table>\n",
       "<p>5 rows × 30 columns</p>\n",
       "</div>"
      ],
      "text/plain": [
       "   Calcium_(mg)  Lipid_Tot_(g)  Energ_Kcal  Carbohydrt_(g)  Cholestrl_(mg)  \\\n",
       "0          91.0           2.45        86.0            3.66            10.0   \n",
       "1          61.0           1.02        72.0            2.72             4.0   \n",
       "2         505.0          22.35       300.0            2.19            79.0   \n",
       "3         575.0          24.64       318.0            2.47            89.0   \n",
       "4         782.0          15.92       254.0            2.77            64.0   \n",
       "\n",
       "   Protein_(g)  Vit_A_IU  Vit_A_RAE  Vit_A_RAE_(µg)_  Water_(g)  ...  Ash_(g)  \\\n",
       "0        11.83      74.0       20.0              NaN      80.69  ...     1.36   \n",
       "1        12.39      41.0       11.0              NaN      82.48  ...     1.39   \n",
       "2        22.17     676.0      179.0              NaN      50.01  ...     3.28   \n",
       "3        21.60     745.0      197.0              NaN      48.38  ...     2.91   \n",
       "4        24.26     481.0      127.0              NaN      53.78  ...     3.27   \n",
       "\n",
       "   Zinc_(mg)  Copper_mg)  Manganese_(mg)  Selenium_(µg)  Vit_C_(mg)  \\\n",
       "0       0.41       0.030           0.007            9.9         0.0   \n",
       "1       0.38       0.028           0.003            9.0         0.0   \n",
       "2       2.92       0.011           0.030           17.0         0.0   \n",
       "3       2.46       0.022           0.009           16.1         0.0   \n",
       "4       2.76       0.025           0.010           14.4         0.0   \n",
       "\n",
       "   Vit_E_(mg)  Vit_D_IU  Vit_K_(µg)  Zinc_(mg).1  \n",
       "0        0.04       NaN         NaN         0.41  \n",
       "1        0.01       NaN         NaN         0.38  \n",
       "2        0.19       NaN         NaN         2.92  \n",
       "3        0.21       NaN         NaN         2.46  \n",
       "4        0.14       NaN         NaN         2.76  \n",
       "\n",
       "[5 rows x 30 columns]"
      ]
     },
     "execution_count": 25,
     "metadata": {},
     "output_type": "execute_result"
    }
   ],
   "source": [
    "df.head()"
   ]
  },
  {
   "cell_type": "code",
   "execution_count": 26,
   "metadata": {},
   "outputs": [
    {
     "data": {
      "text/plain": [
       "Index(['Calcium_(mg)', 'Lipid_Tot_(g)', 'Energ_Kcal', 'Carbohydrt_(g)',\n",
       "       'Cholestrl_(mg)', 'Protein_(g)', 'Vit_A_IU', 'Vit_A_RAE',\n",
       "       'Vit_A_RAE_(µg)_', 'Water_(g)', 'Iron_(mg)', 'Thiamin_(mg)',\n",
       "       'Riboflavin_(mg)', 'Niacin_(mg)', 'Panto_Acid_mg)', 'Vit_B6_(mg)',\n",
       "       'Magnesium_(mg)', 'Phosphorus_(mg)', 'Potassium_(mg)', 'Sodium_(mg)',\n",
       "       'Ash_(g)', 'Zinc_(mg)', 'Copper_mg)', 'Manganese_(mg)', 'Selenium_(µg)',\n",
       "       'Vit_C_(mg)', 'Vit_E_(mg)', 'Vit_D_IU', 'Vit_K_(µg)', 'Zinc_(mg).1'],\n",
       "      dtype='object')"
      ]
     },
     "execution_count": 26,
     "metadata": {},
     "output_type": "execute_result"
    }
   ],
   "source": [
    "# Check dataframe columns\n",
    "df.columns"
   ]
  },
  {
   "cell_type": "code",
   "execution_count": 28,
   "metadata": {},
   "outputs": [
    {
     "name": "stdout",
     "output_type": "stream",
     "text": [
      "<class 'pandas.core.frame.DataFrame'>\n",
      "RangeIndex: 1225 entries, 0 to 1224\n",
      "Data columns (total 30 columns):\n",
      " #   Column           Non-Null Count  Dtype  \n",
      "---  ------           --------------  -----  \n",
      " 0   Calcium_(mg)     1223 non-null   float64\n",
      " 1   Lipid_Tot_(g)    1225 non-null   float64\n",
      " 2   Energ_Kcal       1225 non-null   float64\n",
      " 3   Carbohydrt_(g)   1225 non-null   float64\n",
      " 4   Cholestrl_(mg)   1199 non-null   float64\n",
      " 5   Protein_(g)      1225 non-null   float64\n",
      " 6   Vit_A_IU         1200 non-null   float64\n",
      " 7   Vit_A_RAE        803 non-null    float64\n",
      " 8   Vit_A_RAE_(µg)_  201 non-null    float64\n",
      " 9   Water_(g)        1225 non-null   float64\n",
      " 10  Iron_(mg)        1225 non-null   float64\n",
      " 11  Thiamin_(mg)     1088 non-null   float64\n",
      " 12  Riboflavin_(mg)  1174 non-null   float64\n",
      " 13  Niacin_(mg)      1078 non-null   float64\n",
      " 14  Panto_Acid_mg)   761 non-null    float64\n",
      " 15  Vit_B6_(mg)      1078 non-null   float64\n",
      " 16  Magnesium_(mg)   1164 non-null   float64\n",
      " 17  Phosphorus_(mg)  1095 non-null   float64\n",
      " 18  Potassium_(mg)   1190 non-null   float64\n",
      " 19  Sodium_(mg)      1225 non-null   float64\n",
      " 20  Ash_(g)          1213 non-null   float64\n",
      " 21  Zinc_(mg)        1164 non-null   float64\n",
      " 22  Copper_mg)       646 non-null    float64\n",
      " 23  Manganese_(mg)   904 non-null    float64\n",
      " 24  Selenium_(µg)    1051 non-null   float64\n",
      " 25  Vit_C_(mg)       1173 non-null   float64\n",
      " 26  Vit_E_(mg)       694 non-null    float64\n",
      " 27  Vit_D_IU         543 non-null    float64\n",
      " 28  Vit_K_(µg)       555 non-null    float64\n",
      " 29  Zinc_(mg).1      1164 non-null   float64\n",
      "dtypes: float64(30)\n",
      "memory usage: 287.2 KB\n"
     ]
    }
   ],
   "source": [
    "df.info()"
   ]
  },
  {
   "cell_type": "code",
   "execution_count": 30,
   "metadata": {},
   "outputs": [
    {
     "data": {
      "text/plain": [
       "(1225, 30)"
      ]
     },
     "execution_count": 30,
     "metadata": {},
     "output_type": "execute_result"
    }
   ],
   "source": [
    "# Check the shape of the dataset after \n",
    "df.shape"
   ]
  },
  {
   "cell_type": "code",
   "execution_count": 32,
   "metadata": {},
   "outputs": [
    {
     "data": {
      "text/plain": [
       "Calcium_(mg)          2\n",
       "Lipid_Tot_(g)         0\n",
       "Energ_Kcal            0\n",
       "Carbohydrt_(g)        0\n",
       "Cholestrl_(mg)       26\n",
       "Protein_(g)           0\n",
       "Vit_A_IU             25\n",
       "Vit_A_RAE           422\n",
       "Vit_A_RAE_(µg)_    1024\n",
       "Water_(g)             0\n",
       "Iron_(mg)             0\n",
       "Thiamin_(mg)        137\n",
       "Riboflavin_(mg)      51\n",
       "Niacin_(mg)         147\n",
       "Panto_Acid_mg)      464\n",
       "Vit_B6_(mg)         147\n",
       "Magnesium_(mg)       61\n",
       "Phosphorus_(mg)     130\n",
       "Potassium_(mg)       35\n",
       "Sodium_(mg)           0\n",
       "Ash_(g)              12\n",
       "Zinc_(mg)            61\n",
       "Copper_mg)          579\n",
       "Manganese_(mg)      321\n",
       "Selenium_(µg)       174\n",
       "Vit_C_(mg)           52\n",
       "Vit_E_(mg)          531\n",
       "Vit_D_IU            682\n",
       "Vit_K_(µg)          670\n",
       "Zinc_(mg).1          61\n",
       "dtype: int64"
      ]
     },
     "execution_count": 32,
     "metadata": {},
     "output_type": "execute_result"
    }
   ],
   "source": [
    "#Find any null values present in the dataset\n",
    "df.isnull().sum()"
   ]
  },
  {
   "cell_type": "code",
   "execution_count": 34,
   "metadata": {},
   "outputs": [],
   "source": [
    "# Droped all the columns which has more than 30 null values.\n",
    "df_new = pd.read_csv('Final_dataset_milk.csv',usecols=[0,1,2,3,5,6,9,10,19])"
   ]
  },
  {
   "cell_type": "code",
   "execution_count": 35,
   "metadata": {},
   "outputs": [
    {
     "data": {
      "text/plain": [
       "Calcium_(mg)       2\n",
       "Lipid_Tot_(g)      0\n",
       "Energ_Kcal         0\n",
       "Carbohydrt_(g)     0\n",
       "Protein_(g)        0\n",
       "Vit_A_IU          25\n",
       "Water_(g)          0\n",
       "Iron_(mg)          0\n",
       "Sodium_(mg)        0\n",
       "dtype: int64"
      ]
     },
     "execution_count": 35,
     "metadata": {},
     "output_type": "execute_result"
    }
   ],
   "source": [
    "# check again for null values\n",
    "df_new.isnull().sum()"
   ]
  },
  {
   "cell_type": "code",
   "execution_count": 37,
   "metadata": {},
   "outputs": [],
   "source": [
    "# Fix the Vit_A_IU null values present with mean values of the Vit_A_IU\n",
    "mean_value=df_new['Vit_A_IU'].mean()\n",
    "df_new['Vit_A_IU']=df_new['Vit_A_IU'].fillna(mean_value)"
   ]
  },
  {
   "cell_type": "code",
   "execution_count": 40,
   "metadata": {},
   "outputs": [],
   "source": [
    "# Fix the calcium null values present with mean values of the calcium\n",
    "calcium_mean_value=df_new['Calcium_(mg)'].mean()\n",
    "df_new['Calcium_(mg)']=df_new['Calcium_(mg)'].fillna(calcium_mean_value)"
   ]
  },
  {
   "cell_type": "code",
   "execution_count": 41,
   "metadata": {},
   "outputs": [
    {
     "data": {
      "text/plain": [
       "Calcium_(mg)      0\n",
       "Lipid_Tot_(g)     0\n",
       "Energ_Kcal        0\n",
       "Carbohydrt_(g)    0\n",
       "Protein_(g)       0\n",
       "Vit_A_IU          0\n",
       "Water_(g)         0\n",
       "Iron_(mg)         0\n",
       "Sodium_(mg)       0\n",
       "dtype: int64"
      ]
     },
     "execution_count": 41,
     "metadata": {},
     "output_type": "execute_result"
    }
   ],
   "source": [
    "df_new.isnull().sum()"
   ]
  },
  {
   "cell_type": "markdown",
   "metadata": {},
   "source": [
    "## Apply clustering technique using sklearn"
   ]
  },
  {
   "cell_type": "code",
   "execution_count": 42,
   "metadata": {},
   "outputs": [],
   "source": [
    "X=df_new"
   ]
  },
  {
   "cell_type": "code",
   "execution_count": 43,
   "metadata": {},
   "outputs": [],
   "source": [
    "# Import sklearn \n",
    "from sklearn.cluster import KMeans\n",
    "import matplotlib.pyplot as plt"
   ]
  },
  {
   "cell_type": "code",
   "execution_count": 44,
   "metadata": {},
   "outputs": [
    {
     "name": "stderr",
     "output_type": "stream",
     "text": [
      "C:\\Users\\14439\\anaconda3\\lib\\site-packages\\sklearn\\utils\\deprecation.py:143: FutureWarning: The sklearn.metrics.classification module is  deprecated in version 0.22 and will be removed in version 0.24. The corresponding classes / functions should instead be imported from sklearn.metrics. Anything that cannot be imported from sklearn.metrics is now part of the private API.\n",
      "  warnings.warn(message, FutureWarning)\n"
     ]
    },
    {
     "data": {
      "image/png": "[encoded data removed]",
      "text/plain": [
       "<Figure size 576x396 with 1 Axes>"
      ]
     },
     "metadata": {},
     "output_type": "display_data"
    },
    {
     "data": {
      "text/plain": [
       "<matplotlib.axes._subplots.AxesSubplot at 0x2c8a157c670>"
      ]
     },
     "execution_count": 44,
     "metadata": {},
     "output_type": "execute_result"
    }
   ],
   "source": [
    "from yellowbrick.cluster import KElbowVisualizer\n",
    "model = KMeans()\n",
    "# k is range of number of clusters.\n",
    "visualizer = KElbowVisualizer(model, k=(4,12), timings=False)\n",
    "visualizer.fit(X) # Fit the data to the visualizer\n",
    "visualizer.show() # Finalize and render the figure"
   ]
  },
  {
   "cell_type": "markdown",
   "metadata": {},
   "source": [
    "## Inference \n",
    "From the elbow graph we get know that there are 7 clusters which can be formed. \n",
    "\n",
    "Since there are different types of Milk category we need to perform partitioning methods and also due to numeric values present we can use KMeans clustering. "
   ]
  },
  {
   "cell_type": "markdown",
   "metadata": {},
   "source": [
    "### KMeans Clustering"
   ]
  },
  {
   "cell_type": "code",
   "execution_count": 45,
   "metadata": {},
   "outputs": [],
   "source": [
    "# Applying KMeans algorithm\n",
    "km=KMeans(n_clusters=7, init='random',n_init=10, max_iter=300, tol=1e-04, random_state=0)"
   ]
  },
  {
   "cell_type": "code",
   "execution_count": 46,
   "metadata": {},
   "outputs": [],
   "source": [
    "# Training the Data\n",
    "y_km = km.fit_predict(X)"
   ]
  },
  {
   "cell_type": "code",
   "execution_count": 47,
   "metadata": {},
   "outputs": [
    {
     "data": {
      "text/plain": [
       "(1225,)"
      ]
     },
     "execution_count": 47,
     "metadata": {},
     "output_type": "execute_result"
    }
   ],
   "source": [
    "# Checking the shape of the df\n",
    "y_km.shape"
   ]
  },
  {
   "cell_type": "code",
   "execution_count": 61,
   "metadata": {},
   "outputs": [
    {
     "data": {
      "text/plain": [
       "3"
      ]
     },
     "execution_count": 61,
     "metadata": {},
     "output_type": "execute_result"
    }
   ],
   "source": [
    "# Checking to which clustering category the first row belongs to (Random)\n",
    "y_km[0]"
   ]
  },
  {
   "cell_type": "code",
   "execution_count": 62,
   "metadata": {},
   "outputs": [
    {
     "data": {
      "text/plain": [
       "array([[1.41183012e+02, 2.13411565e+01, 4.71170068e+02, 6.54200000e+01,\n",
       "        6.95755102e+00, 1.36513333e+02, 4.43625850e+00, 1.42156463e+00,\n",
       "        1.34918367e+02],\n",
       "       [9.71200000e+02, 7.91000000e+00, 3.82600000e+02, 4.09760000e+01,\n",
       "        3.66320000e+01, 2.73540000e+03, 8.99800000e+00, 5.23600000e+00,\n",
       "        3.83200000e+02],\n",
       "       [1.33500000e+02, 1.60550000e+01, 3.14785714e+02, 2.03171429e+01,\n",
       "        2.14128571e+01, 2.85714286e+00, 3.74035714e+01, 1.05071429e+00,\n",
       "        1.59664286e+03],\n",
       "       [8.88923767e+01, 5.08139013e+00, 1.44147982e+02, 2.02253812e+01,\n",
       "        4.49085202e+00, 1.68698834e+02, 6.85622422e+01, 8.29775785e-01,\n",
       "        3.76892377e+02],\n",
       "       [1.28371585e+02, 2.94166667e+00, 8.17800546e+01, 1.01674454e+01,\n",
       "        3.83844262e+00, 1.55124590e+02, 8.21943169e+01, 9.65232240e-01,\n",
       "        6.91051913e+01],\n",
       "       [1.97935484e+02, 8.07000000e+00, 2.78516129e+02, 4.71532258e+01,\n",
       "        4.40225806e+00, 1.03935484e+03, 3.88412903e+01, 3.59129032e+00,\n",
       "        2.87548387e+02],\n",
       "       [9.07509434e+02, 1.41667925e+01, 3.67566038e+02, 3.44950943e+01,\n",
       "        2.53854717e+01, 4.97264151e+02, 2.03656604e+01, 1.07830189e+00,\n",
       "        5.37094340e+02]])"
      ]
     },
     "execution_count": 62,
     "metadata": {},
     "output_type": "execute_result"
    }
   ],
   "source": [
    "# center points of each clusters\n",
    "km.cluster_centers_"
   ]
  },
  {
   "cell_type": "code",
   "execution_count": 50,
   "metadata": {},
   "outputs": [
    {
     "data": {
      "text/plain": [
       "array([3, 3, 6, ..., 4, 3, 4])"
      ]
     },
     "execution_count": 50,
     "metadata": {},
     "output_type": "execute_result"
    }
   ],
   "source": [
    "km.labels_"
   ]
  },
  {
   "cell_type": "code",
   "execution_count": 63,
   "metadata": {},
   "outputs": [],
   "source": [
    "# Number of samples present in each cluster\n",
    "unique, counts = np.unique(y_km, return_counts=True)"
   ]
  },
  {
   "cell_type": "code",
   "execution_count": 64,
   "metadata": {},
   "outputs": [
    {
     "data": {
      "text/plain": [
       "{0: 147, 1: 25, 2: 14, 3: 223, 4: 732, 5: 31, 6: 53}"
      ]
     },
     "execution_count": 64,
     "metadata": {},
     "output_type": "execute_result"
    }
   ],
   "source": [
    "dict(zip(unique, counts))"
   ]
  },
  {
   "cell_type": "code",
   "execution_count": 56,
   "metadata": {},
   "outputs": [
    {
     "data": {
      "text/plain": [
       "array([141.18301155, 971.2       , 133.5       ,  88.89237668,\n",
       "       128.3715847 , 197.93548387, 907.50943396])"
      ]
     },
     "execution_count": 56,
     "metadata": {},
     "output_type": "execute_result"
    }
   ],
   "source": [
    "# checking the cluster centers\n",
    "km.cluster_centers_[:,0]"
   ]
  },
  {
   "cell_type": "code",
   "execution_count": 57,
   "metadata": {},
   "outputs": [
    {
     "data": {
      "text/plain": [
       "<matplotlib.collections.PathCollection at 0x2c8a06733d0>"
      ]
     },
     "execution_count": 57,
     "metadata": {},
     "output_type": "execute_result"
    },
    {
     "data": {
      "image/png": "[encoded data removed]",
      "text/plain": [
       "<Figure size 576x396 with 1 Axes>"
      ]
     },
     "metadata": {},
     "output_type": "display_data"
    }
   ],
   "source": [
    "#Plot graph for the clusters of calcium and Lipid features\n",
    "plt.scatter(X.iloc[:,[0]],X.iloc[:,[1]],c=y_km, s=50, cmap='viridis')\n",
    "plt.scatter(km.cluster_centers_[:,0],km.cluster_centers_[:,1],c='black', s=200)"
   ]
  },
  {
   "cell_type": "code",
   "execution_count": 65,
   "metadata": {},
   "outputs": [
    {
     "data": {
      "image/png": "[encoded data removed]",
      "text/plain": [
       "<Figure size 576x396 with 1 Axes>"
      ]
     },
     "metadata": {},
     "output_type": "display_data"
    },
    {
     "data": {
      "image/png": "[encoded data removed]",
      "text/plain": [
       "<Figure size 576x396 with 1 Axes>"
      ]
     },
     "metadata": {},
     "output_type": "display_data"
    },
    {
     "data": {
      "image/png": "[encoded data removed]",
      "text/plain": [
       "<Figure size 576x396 with 1 Axes>"
      ]
     },
     "metadata": {},
     "output_type": "display_data"
    },
    {
     "data": {
      "image/png": "[encoded data removed]",
      "text/plain": [
       "<Figure size 576x396 with 1 Axes>"
      ]
     },
     "metadata": {},
     "output_type": "display_data"
    },
    {
     "data": {
      "image/png": "[encoded data removed]",
      "text/plain": [
       "<Figure size 576x396 with 1 Axes>"
      ]
     },
     "metadata": {},
     "output_type": "display_data"
    },
    {
     "data": {
      "image/png": "[encoded data removed]",
      "text/plain": [
       "<Figure size 576x396 with 1 Axes>"
      ]
     },
     "metadata": {},
     "output_type": "display_data"
    },
    {
     "data": {
      "image/png": "[encoded data removed]",
      "text/plain": [
       "<Figure size 576x396 with 1 Axes>"
      ]
     },
     "metadata": {},
     "output_type": "display_data"
    },
    {
     "data": {
      "image/png": "[encoded data removed]",
      "text/plain": [
       "<Figure size 576x396 with 1 Axes>"
      ]
     },
     "metadata": {},
     "output_type": "display_data"
    },
    {
     "data": {
      "image/png": "[encoded data removed]",
      "text/plain": [
       "<Figure size 576x396 with 1 Axes>"
      ]
     },
     "metadata": {},
     "output_type": "display_data"
    }
   ],
   "source": [
    "# Checking the cluster formation based on the individual features\n",
    "from matplotlib.colors import ListedColormap\n",
    "cmap_bold = ListedColormap(['red', 'black', 'red','black','red','black'])\n",
    "for column in df_selected_features:\n",
    "   q=y_km\n",
    "   if column!='label':\n",
    "       p=df_selected_features[column].values\n",
    "       plt.scatter(q,p,c=q, cmap=cmap_bold,edgecolor='k', s=20)\n",
    "       plt.xlabel('Classification', fontsize=20)\n",
    "       plt.ylabel(column, fontsize=20)\n",
    "       plt.show()"
   ]
  },
  {
   "cell_type": "code",
   "execution_count": null,
   "metadata": {},
   "outputs": [],
   "source": []
  }
 ],
 "metadata": {
  "kernelspec": {
   "display_name": "Python 3",
   "language": "python",
   "name": "python3"
  },
  "language_info": {
   "codemirror_mode": {
    "name": "ipython",
    "version": 3
   },
   "file_extension": ".py",
   "mimetype": "text/x-python",
   "name": "python",
   "nbconvert_exporter": "python",
   "pygments_lexer": "ipython3",
   "version": "3.8.3"
  }
 },
 "nbformat": 4,
 "nbformat_minor": 4
}
